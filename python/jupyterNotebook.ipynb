{
 "metadata": {
  "language_info": {
   "codemirror_mode": {
    "name": "ipython",
    "version": 3
   },
   "file_extension": ".py",
   "mimetype": "text/x-python",
   "name": "python",
   "nbconvert_exporter": "python",
   "pygments_lexer": "ipython3",
   "version": "3.8.5-final"
  },
  "orig_nbformat": 2,
  "kernelspec": {
   "name": "cea937d7-10bb-452b-ae09-28bc30e1e13d",
   "display_name": "'Python Interactive'"
  }
 },
 "nbformat": 4,
 "nbformat_minor": 2,
 "cells": [
  {
   "source": [
    "from plot_results import plot_layout_result\n",
    "import numpy as np\n",
    "import pandas as pd\n",
    "import sys\n",
    "import os as os\n",
    "\n",
    "d0 = 30\n",
    "\n",
    "# read coordinates file.\n",
    "try:\n",
    "    seat_loc = pd.read_excel(\"example_bus_layout.xlsx\")\n",
    "    seat_loc = seat_loc.sort_values(by=['X','Y'], ascending=False) #fill in seats from left to right, back to front\n",
    "    seat_loc = np.array(seat_loc)\n",
    "except:\n",
    "    print(\"Error-PY1\")\n",
    "\n",
    "\n",
    "# read groups file.\n",
    "try:\n",
    "    groups = pd.read_excel(\"example_groups.xlsx\")     \n",
    "    groups = np.array(groups)\n",
    "except:\n",
    "    print(\"Error-PY2\")\n",
    "\n",
    "\n",
    "seat_set = [i for i in range(len(seat_loc))]\n",
    "\n",
    "pair_set = []  # define a set of seat index pair (s1, s2) for all s1 != s2.\n",
    "for s1 in range(len(seat_set) - 1):\n",
    "    for s2 in range(s1 + 1, len(seat_set)):\n",
    "        pair_set.append((seat_set[s1], seat_set[s2]))\n",
    "\n",
    "\n",
    "distance = {}  # compute distance between each pair of seats (s1, s2) for all s1 != s2.\n",
    "for pair in pair_set:\n",
    "    x = np.abs(seat_loc[pair[0]][0] - seat_loc[pair[1]][0])\n",
    "    y = np.abs(seat_loc[pair[0]][1] - seat_loc[pair[1]][1])\n",
    "    distance[pair] = np.sqrt(x * x + y * y)"
   ],
   "cell_type": "code",
   "metadata": {},
   "execution_count": 1,
   "outputs": []
  },
  {
   "cell_type": "code",
   "execution_count": 2,
   "metadata": {},
   "outputs": [],
   "source": [
    "current_seat = 0\n",
    "seating_plan = [0]*len(seat_loc)\n",
    "\n",
    "for group_index in range(len(groups)):\n",
    "   \n",
    "    group_seats = []\n",
    "   \n",
    "    for person in range(groups[group_index,1]):\n",
    "        for seat in range (current_seat, len(seat_loc)):\n",
    "            if seating_plan[current_seat] == 0:\n",
    "                seating_plan[current_seat] = groups[group_index,0]\n",
    "                group_seats.append(current_seat)\n",
    "                current_seat = current_seat + 1 \n",
    "                break\n",
    "            else:        \n",
    "                current_seat = current_seat + 1 \n",
    "    \n",
    "    for i in range(current_seat, len(seat_loc)):\n",
    "        for j in group_seats:\n",
    "            if distance[j,i] < d0:\n",
    "                seating_plan[i] = -1"
   ]
  },
  {
   "cell_type": "code",
   "execution_count": null,
   "metadata": {},
   "outputs": [],
   "source": []
  }
 ]
}